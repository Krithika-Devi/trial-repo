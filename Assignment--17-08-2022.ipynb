{
  "nbformat": 4,
  "nbformat_minor": 0,
  "metadata": {
    "colab": {
      "name": "Untitled1.ipynb",
      "provenance": [],
      "include_colab_link": true
    },
    "kernelspec": {
      "name": "python3",
      "display_name": "Python 3"
    },
    "language_info": {
      "name": "python"
    }
  },
  "cells": [
    {
      "cell_type": "markdown",
      "metadata": {
        "id": "view-in-github",
        "colab_type": "text"
      },
      "source": [
        "<a href=\"https://colab.research.google.com/github/Krithika-Devi/trial-repo/blob/main/Assignment--17-08-2022.ipynb\" target=\"_parent\"><img src=\"https://colab.research.google.com/assets/colab-badge.svg\" alt=\"Open In Colab\"/></a>"
      ]
    },
    {
      "cell_type": "code",
      "source": [
        "%%writefile Script1.py\n",
        "def greater():\n",
        "  n1 = int(input(\"Enter number, n1: \"))\n",
        "  n2 = int(input(\"Enter number, n2: \"))\n",
        "  if n1>n2:\n",
        "    print(\"n1 is greater\")\n",
        "  else:\n",
        "    print(\"n2 is greater\")"
      ],
      "metadata": {
        "colab": {
          "base_uri": "https://localhost:8080/"
        },
        "id": "gsakJy-fdUKA",
        "outputId": "86cbdeb4-6e5e-4ed3-c753-8fe738330b3d"
      },
      "execution_count": 28,
      "outputs": [
        {
          "output_type": "stream",
          "name": "stdout",
          "text": [
            "Writing Script1.py\n"
          ]
        }
      ]
    },
    {
      "cell_type": "code",
      "source": [
        "greater()"
      ],
      "metadata": {
        "colab": {
          "base_uri": "https://localhost:8080/"
        },
        "id": "lT2Wv7almOpa",
        "outputId": "3ebb7b04-d540-4bdc-9dee-c4bdd5d16e51"
      },
      "execution_count": 29,
      "outputs": [
        {
          "output_type": "stream",
          "name": "stdout",
          "text": [
            "Enter number, n1: 7\n",
            "Enter number, n2: 9\n",
            "n2 is greater\n"
          ]
        }
      ]
    },
    {
      "cell_type": "code",
      "source": [
        "%%writefile Script2.py\n",
        "def smaller():\n",
        "  n1 = int(input(\"Enter number, n1: \"))\n",
        "  n2 = int(input(\"Enter number, n2: \"))\n",
        "  if n1<n2:\n",
        "    print(\"n1 is smaller\")\n",
        "  else:\n",
        "    print(\"n2 is smaller\")"
      ],
      "metadata": {
        "id": "yhr4_KPIeLdI"
      },
      "execution_count": 31,
      "outputs": []
    },
    {
      "cell_type": "code",
      "source": [
        "smaller()"
      ],
      "metadata": {
        "colab": {
          "base_uri": "https://localhost:8080/"
        },
        "id": "fWWJ5uf8ebct",
        "outputId": "d80ef3c9-a31c-4a7a-fee9-96fb5ee0bae2"
      },
      "execution_count": 33,
      "outputs": [
        {
          "output_type": "stream",
          "name": "stdout",
          "text": [
            "Enter number, n1: 7\n",
            "Enter number, n2: 9\n",
            "n1 is smaller\n"
          ]
        }
      ]
    }
  ]
}
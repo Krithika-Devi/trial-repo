{
  "nbformat": 4,
  "nbformat_minor": 0,
  "metadata": {
    "colab": {
      "name": "Untitled1.ipynb",
      "provenance": [],
      "include_colab_link": true
    },
    "kernelspec": {
      "name": "python3",
      "display_name": "Python 3"
    },
    "language_info": {
      "name": "python"
    }
  },
  "cells": [
    {
      "cell_type": "markdown",
      "metadata": {
        "id": "view-in-github",
        "colab_type": "text"
      },
      "source": [
        "<a href=\"https://colab.research.google.com/github/Krithika-Devi/trial-repo/blob/main/Assignment--17-08-2022.ipynb\" target=\"_parent\"><img src=\"https://colab.research.google.com/assets/colab-badge.svg\" alt=\"Open In Colab\"/></a>"
      ]
    },
    {
      "cell_type": "code",
      "source": [
        "%%writefile Script1&2.py\n",
        "n1 = int(input(\"Enter number, n1: \"))\n",
        "n2 = int(input(\"Enter number, n2: \"))\n"
      ],
      "metadata": {
        "id": "DqGZ4PYlYHQL",
        "colab": {
          "base_uri": "https://localhost:8080/"
        },
        "outputId": "c2b12bd4-fc06-48c2-9a86-dd834f75d80f"
      },
      "execution_count": 21,
      "outputs": [
        {
          "output_type": "stream",
          "name": "stdout",
          "text": [
            "Overwriting Script1&2.py\n"
          ]
        }
      ]
    },
    {
      "cell_type": "code",
      "source": [
        "%%writefile Script1.py\n",
        "if n1>n2:\n",
        "  print(\"n1 is greater\")\n",
        "else:\n",
        "  print(\"n2 is greater\")"
      ],
      "metadata": {
        "colab": {
          "base_uri": "https://localhost:8080/"
        },
        "id": "gsakJy-fdUKA",
        "outputId": "2a6c18ed-ff21-403d-e313-0afaf05bdfe0"
      },
      "execution_count": 22,
      "outputs": [
        {
          "output_type": "stream",
          "name": "stdout",
          "text": [
            "Overwriting Script1.py\n"
          ]
        }
      ]
    },
    {
      "cell_type": "code",
      "source": [
        "%%writefile Script2.py\n",
        "if n1<n2:\n",
        "  print(\"n1 is smaller\")\n",
        "else:\n",
        "  print(\"n2 is smaller\")"
      ],
      "metadata": {
        "colab": {
          "base_uri": "https://localhost:8080/"
        },
        "id": "yhr4_KPIeLdI",
        "outputId": "b4bbce7f-ccc6-481a-aca0-5cea83c9b09f"
      },
      "execution_count": 23,
      "outputs": [
        {
          "output_type": "stream",
          "name": "stdout",
          "text": [
            "Overwriting Script2.py\n"
          ]
        }
      ]
    },
    {
      "cell_type": "code",
      "source": [
        ""
      ],
      "metadata": {
        "id": "fWWJ5uf8ebct"
      },
      "execution_count": null,
      "outputs": []
    }
  ]
}
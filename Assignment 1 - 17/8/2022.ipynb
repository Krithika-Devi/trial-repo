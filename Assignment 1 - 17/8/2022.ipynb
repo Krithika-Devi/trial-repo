{
  "nbformat": 4,
  "nbformat_minor": 0,
  "metadata": {
    "colab": {
      "name": "Untitled1.ipynb",
      "provenance": [],
      "include_colab_link": true
    },
    "kernelspec": {
      "name": "python3",
      "display_name": "Python 3"
    },
    "language_info": {
      "name": "python"
    }
  },
  "cells": [
    {
      "cell_type": "markdown",
      "metadata": {
        "id": "view-in-github",
        "colab_type": "text"
      },
      "source": [
        "<a href=\"https://colab.research.google.com/github/Krithika-Devi/trial-repo/blob/main/Assignment%201%20-%2017/8/2022.ipynb\" target=\"_parent\"><img src=\"https://colab.research.google.com/assets/colab-badge.svg\" alt=\"Open In Colab\"/></a>"
      ]
    },
    {
      "cell_type": "code",
      "source": [
        "%%writefile Script1&2.py\n",
        "n1 = int(input(\"Enter number, n1: \"))\n",
        "n2 = int(input(\"Enter number, n2: \"))\n"
      ],
      "metadata": {
        "id": "DqGZ4PYlYHQL",
        "colab": {
          "base_uri": "https://localhost:8080/"
        },
        "outputId": "fc3a90d8-3c1f-47aa-8e14-e5aca5bb538a"
      },
      "execution_count": 19,
      "outputs": [
        {
          "output_type": "stream",
          "name": "stdout",
          "text": [
            "Writing Script1&2.py\n"
          ]
        }
      ]
    },
    {
      "cell_type": "code",
      "source": [
        "%%writefile Script1.py\n",
        "if n1>n2:\n",
        "  print(\"n1 is greater\")\n",
        "else:\n",
        "  print(\"n2 is greater\")"
      ],
      "metadata": {
        "colab": {
          "base_uri": "https://localhost:8080/"
        },
        "id": "gsakJy-fdUKA",
        "outputId": "c7499308-f21e-4250-9056-4f0ac07823fa"
      },
      "execution_count": 17,
      "outputs": [
        {
          "output_type": "stream",
          "name": "stdout",
          "text": [
            "Writing Script1.py\n"
          ]
        }
      ]
    },
    {
      "cell_type": "code",
      "source": [
        "%%writefile Script2.py\n",
        "if n1<n2:\n",
        "  print(\"n1 is smaller\")\n",
        "else:\n",
        "  print(\"n2 is smaller\")"
      ],
      "metadata": {
        "colab": {
          "base_uri": "https://localhost:8080/"
        },
        "id": "yhr4_KPIeLdI",
        "outputId": "d8ceb1e5-0794-4c11-b5da-2f3a39ad5ac3"
      },
      "execution_count": 18,
      "outputs": [
        {
          "output_type": "stream",
          "name": "stdout",
          "text": [
            "Writing Script2.py\n"
          ]
        }
      ]
    },
    {
      "cell_type": "code",
      "source": [
        ""
      ],
      "metadata": {
        "id": "fWWJ5uf8ebct"
      },
      "execution_count": null,
      "outputs": []
    }
  ]
}
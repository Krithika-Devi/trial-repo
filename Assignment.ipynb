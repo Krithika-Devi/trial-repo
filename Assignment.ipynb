{
  "nbformat": 4,
  "nbformat_minor": 0,
  "metadata": {
    "colab": {
      "name": "Untitled1.ipynb",
      "provenance": [],
      "include_colab_link": true
    },
    "kernelspec": {
      "name": "python3",
      "display_name": "Python 3"
    },
    "language_info": {
      "name": "python"
    }
  },
  "cells": [
    {
      "cell_type": "markdown",
      "metadata": {
        "id": "view-in-github",
        "colab_type": "text"
      },
      "source": [
        "<a href=\"https://colab.research.google.com/github/Krithika-Devi/trial-repo/blob/main/Assignment.ipynb\" target=\"_parent\"><img src=\"https://colab.research.google.com/assets/colab-badge.svg\" alt=\"Open In Colab\"/></a>"
      ]
    },
    {
      "cell_type": "code",
      "source": [
        "x = input(\"Enter number, n1: \")\n",
        "y = input(\"Enter number, n2: \")\n",
        "\n"
      ],
      "metadata": {
        "id": "DqGZ4PYlYHQL",
        "colab": {
          "base_uri": "https://localhost:8080/"
        },
        "outputId": "eebdfdd3-f3c4-4a8b-e199-48f155f4a916"
      },
      "execution_count": 12,
      "outputs": [
        {
          "name": "stdout",
          "output_type": "stream",
          "text": [
            "Enter number, n1: 7\n",
            "Enter number, n2: 9\n"
          ]
        }
      ]
    },
    {
      "cell_type": "code",
      "source": [
        "if x>y:\n",
        "  print(\"n1 is greater\")\n",
        "else:\n",
        "  print(\"n2 is greater\")"
      ],
      "metadata": {
        "id": "gsakJy-fdUKA",
        "outputId": "16a3f3b6-6530-406b-aee0-6e1a8ec3a1cb",
        "colab": {
          "base_uri": "https://localhost:8080/"
        }
      },
      "execution_count": 14,
      "outputs": [
        {
          "output_type": "stream",
          "name": "stdout",
          "text": [
            "n2 is greater\n"
          ]
        }
      ]
    },
    {
      "cell_type": "code",
      "source": [
        "if x<y:\n",
        "  print(\"n1 is smaller\")\n",
        "else:\n",
        "  print(\"n2 is smaller\")"
      ],
      "metadata": {
        "id": "yhr4_KPIeLdI",
        "outputId": "82d06f76-a564-41ef-d585-82a11949d991",
        "colab": {
          "base_uri": "https://localhost:8080/"
        }
      },
      "execution_count": 15,
      "outputs": [
        {
          "output_type": "stream",
          "name": "stdout",
          "text": [
            "n1 is smaller\n"
          ]
        }
      ]
    },
    {
      "cell_type": "code",
      "source": [
        ""
      ],
      "metadata": {
        "id": "fWWJ5uf8ebct"
      },
      "execution_count": null,
      "outputs": []
    }
  ]
}
{
  "nbformat": 4,
  "nbformat_minor": 0,
  "metadata": {
    "colab": {
      "name": "Untitled1.ipynb",
      "provenance": [],
      "include_colab_link": true
    },
    "kernelspec": {
      "name": "python3",
      "display_name": "Python 3"
    },
    "language_info": {
      "name": "python"
    }
  },
  "cells": [
    {
      "cell_type": "markdown",
      "metadata": {
        "id": "view-in-github",
        "colab_type": "text"
      },
      "source": [
        "<a href=\"https://colab.research.google.com/github/Krithika-Devi/trial-repo/blob/main/Assignment---17-08-2022.ipynb\" target=\"_parent\"><img src=\"https://colab.research.google.com/assets/colab-badge.svg\" alt=\"Open In Colab\"/></a>"
      ]
    },
    {
      "cell_type": "code",
      "source": [
        "%%writefile Script1.py\n",
        "def greater():\n",
        "  n1 = int(input(\"Enter number, n1: \"))\n",
        "  n2 = int(input(\"Enter number, n2: \"))\n",
        "  if n1>n2:\n",
        "    print(\"n1 is greater\")\n",
        "  else:\n",
        "    print(\"n2 is greater\")"
      ],
      "metadata": {
        "colab": {
          "base_uri": "https://localhost:8080/"
        },
        "id": "gsakJy-fdUKA",
        "outputId": "6ee8b07c-dfeb-4ca2-e930-ba1ad00c5ad9"
      },
      "execution_count": 36,
      "outputs": [
        {
          "output_type": "stream",
          "name": "stdout",
          "text": [
            "Overwriting Script1.py\n"
          ]
        }
      ]
    },
    {
      "cell_type": "code",
      "source": [
        "%%writefile -a Script1.py\n",
        "greater()"
      ],
      "metadata": {
        "colab": {
          "base_uri": "https://localhost:8080/"
        },
        "id": "lT2Wv7almOpa",
        "outputId": "92824a1d-32e4-4c1a-8c90-e9854139c76f"
      },
      "execution_count": 37,
      "outputs": [
        {
          "output_type": "stream",
          "name": "stdout",
          "text": [
            "Appending to Script1.py\n"
          ]
        }
      ]
    },
    {
      "cell_type": "code",
      "source": [
        "%%writefile Script2.py\n",
        "def smaller():\n",
        "  n1 = int(input(\"Enter number, n1: \"))\n",
        "  n2 = int(input(\"Enter number, n2: \"))\n",
        "  if n1<n2:\n",
        "    print(\"n1 is smaller\")\n",
        "  else:\n",
        "    print(\"n2 is smaller\")"
      ],
      "metadata": {
        "colab": {
          "base_uri": "https://localhost:8080/"
        },
        "id": "yhr4_KPIeLdI",
        "outputId": "5a9a045e-3e85-4648-a54e-39ef14fd3d53"
      },
      "execution_count": 39,
      "outputs": [
        {
          "output_type": "stream",
          "name": "stdout",
          "text": [
            "Overwriting Script2.py\n"
          ]
        }
      ]
    },
    {
      "cell_type": "code",
      "source": [
        "%%writefile -a Script2.py\n",
        "smaller()"
      ],
      "metadata": {
        "colab": {
          "base_uri": "https://localhost:8080/"
        },
        "id": "fWWJ5uf8ebct",
        "outputId": "10fbc27b-7f4e-4bb9-efe6-b8ef7fe78239"
      },
      "execution_count": 40,
      "outputs": [
        {
          "output_type": "stream",
          "name": "stdout",
          "text": [
            "Appending to Script2.py\n"
          ]
        }
      ]
    },
    {
      "cell_type": "code",
      "source": [
        ""
      ],
      "metadata": {
        "id": "jnoV8U-An9D8"
      },
      "execution_count": null,
      "outputs": []
    }
  ]
}